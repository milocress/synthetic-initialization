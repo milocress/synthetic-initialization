{
  "cells": [
    {
      "cell_type": "code",
      "execution_count": 4,
      "metadata": {},
      "outputs": [],
      "source": [
        "import numpy as np\n",
        "import torch\n",
        "from torch.nn import functional as F\n",
        "\n",
        "from string import ascii_lowercase\n",
        "\n",
        "from models.model import tokenize, make_weights, embed, batch_tokens, BasicSelfAttention, FeedForwardRelu"
      ]
    },
    {
      "cell_type": "code",
      "execution_count": 5,
      "metadata": {
        "id": "8Cqqjh4UL3h5"
      },
      "outputs": [],
      "source": [
        "input_string = \"abacdbee\"\n",
        "output_string = list(set(input_string))"
      ]
    },
    {
      "cell_type": "code",
      "execution_count": 6,
      "metadata": {
        "id": "3COCJHogNDEn"
      },
      "outputs": [],
      "source": [
        "# set implementation in python\n",
        "def simple_set_dedup(input_string):\n",
        "  s = set()\n",
        "  r = []\n",
        "  for c in input_string:\n",
        "    if c not in s:\n",
        "      s.add(c)\n",
        "      r.append(c)\n",
        "\n",
        "  return r"
      ]
    },
    {
      "cell_type": "code",
      "execution_count": 7,
      "metadata": {
        "colab": {
          "base_uri": "https://localhost:8080/"
        },
        "id": "6agUtrPnNVVu",
        "outputId": "afbc1a53-9f70-4e02-d4cb-e192aabf251d"
      },
      "outputs": [
        {
          "data": {
            "text/plain": [
              "['a', 'b', 'c', 'd', 'e']"
            ]
          },
          "execution_count": 7,
          "metadata": {},
          "output_type": "execute_result"
        }
      ],
      "source": [
        "simple_set_dedup(input_string)"
      ]
    },
    {
      "cell_type": "code",
      "execution_count": 8,
      "metadata": {
        "id": "zerAdpZzN8fO"
      },
      "outputs": [],
      "source": [
        "default_tokens = {c: x for x, c in enumerate('abcde')}"
      ]
    },
    {
      "cell_type": "code",
      "execution_count": 9,
      "metadata": {
        "colab": {
          "base_uri": "https://localhost:8080/"
        },
        "id": "LEH1mDd7i5uC",
        "outputId": "3186aa4f-f37e-4c3d-9fa6-1d793107d408"
      },
      "outputs": [
        {
          "data": {
            "text/plain": [
              "{'a': 0, 'b': 1, 'c': 2, 'd': 3, 'e': 4}"
            ]
          },
          "execution_count": 9,
          "metadata": {},
          "output_type": "execute_result"
        }
      ],
      "source": [
        "default_tokens"
      ]
    },
    {
      "cell_type": "code",
      "execution_count": 10,
      "metadata": {
        "colab": {
          "base_uri": "https://localhost:8080/"
        },
        "id": "3cls8cPfPNpu",
        "outputId": "03bf42cb-7ea9-48f4-f49a-9898ae440adc"
      },
      "outputs": [
        {
          "data": {
            "text/plain": [
              "(array([0, 1, 0, 2, 3, 1, 4, 4]), 26)"
            ]
          },
          "execution_count": 10,
          "metadata": {},
          "output_type": "execute_result"
        }
      ],
      "source": [
        "tokens, alphabet_size = tokenize(input_string)\n",
        "tokens, alphabet_size"
      ]
    },
    {
      "cell_type": "code",
      "execution_count": 11,
      "metadata": {
        "colab": {
          "base_uri": "https://localhost:8080/"
        },
        "id": "S40ncnE_TXV5",
        "outputId": "a4e73b89-36e0-4e95-acd8-e989a24404ee"
      },
      "outputs": [
        {
          "data": {
            "text/plain": [
              "array([[0, 1, 0, 2, 3, 1, 4, 4]])"
            ]
          },
          "execution_count": 11,
          "metadata": {},
          "output_type": "execute_result"
        }
      ],
      "source": [
        "batch = batch_tokens(tokens)\n",
        "batch"
      ]
    },
    {
      "cell_type": "code",
      "execution_count": 12,
      "metadata": {
        "id": "0lY4I8DLBLs1"
      },
      "outputs": [],
      "source": [
        "def generate_position_embeddings(batch_size, sequence_length: int):\n",
        "  M = np.eye(sequence_length)\n",
        "  return torch.tensor(M).repeat(batch_size, 1, 1)"
      ]
    },
    {
      "cell_type": "code",
      "execution_count": 13,
      "metadata": {
        "colab": {
          "base_uri": "https://localhost:8080/"
        },
        "id": "2A4AeY0aBkx6",
        "outputId": "86eb73ca-7ecd-4a33-940c-23078e163fe7"
      },
      "outputs": [
        {
          "data": {
            "text/plain": [
              "tensor([[[1., 0., 0.],\n",
              "         [0., 1., 0.],\n",
              "         [0., 0., 1.]],\n",
              "\n",
              "        [[1., 0., 0.],\n",
              "         [0., 1., 0.],\n",
              "         [0., 0., 1.]]], dtype=torch.float64)"
            ]
          },
          "execution_count": 13,
          "metadata": {},
          "output_type": "execute_result"
        }
      ],
      "source": [
        "generate_position_embeddings(2, 3)"
      ]
    },
    {
      "cell_type": "code",
      "execution_count": null,
      "metadata": {
        "id": "NBKkFoPkPPBe"
      },
      "outputs": [],
      "source": []
    },
    {
      "cell_type": "code",
      "execution_count": 14,
      "metadata": {
        "colab": {
          "base_uri": "https://localhost:8080/"
        },
        "id": "-d2ED65XRgL4",
        "outputId": "932f1c2f-a8c8-4b1e-8265-f9d1b1fc4c75"
      },
      "outputs": [
        {
          "data": {
            "text/plain": [
              "tensor([[[0., 0., 1., 0., 0., 0., 0., 0., 0., 0., 0., 0., 0., 0., 0., 0., 0.,\n",
              "          0., 0., 0., 0., 0., 0., 0., 0., 0., 0., 0., 1., 0., 0., 0., 0., 0.,\n",
              "          0., 0.],\n",
              "         [0., 0., 0., 1., 0., 0., 0., 0., 0., 0., 0., 0., 0., 0., 0., 0., 0.,\n",
              "          0., 0., 0., 0., 0., 0., 0., 0., 0., 0., 0., 0., 1., 0., 0., 0., 0.,\n",
              "          0., 0.],\n",
              "         [0., 0., 1., 0., 0., 0., 0., 0., 0., 0., 0., 0., 0., 0., 0., 0., 0.,\n",
              "          0., 0., 0., 0., 0., 0., 0., 0., 0., 0., 0., 0., 0., 1., 0., 0., 0.,\n",
              "          0., 0.],\n",
              "         [0., 0., 0., 0., 1., 0., 0., 0., 0., 0., 0., 0., 0., 0., 0., 0., 0.,\n",
              "          0., 0., 0., 0., 0., 0., 0., 0., 0., 0., 0., 0., 0., 0., 1., 0., 0.,\n",
              "          0., 0.],\n",
              "         [0., 0., 0., 0., 0., 1., 0., 0., 0., 0., 0., 0., 0., 0., 0., 0., 0.,\n",
              "          0., 0., 0., 0., 0., 0., 0., 0., 0., 0., 0., 0., 0., 0., 0., 1., 0.,\n",
              "          0., 0.],\n",
              "         [0., 0., 0., 1., 0., 0., 0., 0., 0., 0., 0., 0., 0., 0., 0., 0., 0.,\n",
              "          0., 0., 0., 0., 0., 0., 0., 0., 0., 0., 0., 0., 0., 0., 0., 0., 1.,\n",
              "          0., 0.],\n",
              "         [0., 0., 0., 0., 0., 0., 1., 0., 0., 0., 0., 0., 0., 0., 0., 0., 0.,\n",
              "          0., 0., 0., 0., 0., 0., 0., 0., 0., 0., 0., 0., 0., 0., 0., 0., 0.,\n",
              "          1., 0.],\n",
              "         [0., 0., 0., 0., 0., 0., 1., 0., 0., 0., 0., 0., 0., 0., 0., 0., 0.,\n",
              "          0., 0., 0., 0., 0., 0., 0., 0., 0., 0., 0., 0., 0., 0., 0., 0., 0.,\n",
              "          0., 1.]]], dtype=torch.float64)"
            ]
          },
          "execution_count": 14,
          "metadata": {},
          "output_type": "execute_result"
        }
      ],
      "source": [
        "embeddings = embed(batch, alphabet_size)\n",
        "embedding_length = embeddings.shape[2]\n",
        "embeddings"
      ]
    },
    {
      "cell_type": "code",
      "execution_count": 15,
      "metadata": {
        "colab": {
          "base_uri": "https://localhost:8080/"
        },
        "id": "Fd1tWjeQRoVu",
        "outputId": "73b7866e-98a0-4efb-b875-b85d49ec7a98"
      },
      "outputs": [
        {
          "data": {
            "text/plain": [
              "torch.Size([1, 8, 36])"
            ]
          },
          "execution_count": 15,
          "metadata": {},
          "output_type": "execute_result"
        }
      ],
      "source": [
        "embeddings.shape # should be (batches, sequence length, embedding dimension)"
      ]
    },
    {
      "cell_type": "code",
      "execution_count": 16,
      "metadata": {
        "colab": {
          "base_uri": "https://localhost:8080/"
        },
        "id": "eUYFHXi1Tlo-",
        "outputId": "23343521-ce5c-4313-9a0a-a5c78c8ac086"
      },
      "outputs": [
        {
          "data": {
            "text/plain": [
              "tensor([[[2., 0., 1., 0., 0., 0., 0., 0.],\n",
              "         [0., 2., 0., 0., 0., 1., 0., 0.],\n",
              "         [1., 0., 2., 0., 0., 0., 0., 0.],\n",
              "         [0., 0., 0., 2., 0., 0., 0., 0.],\n",
              "         [0., 0., 0., 0., 2., 0., 0., 0.],\n",
              "         [0., 1., 0., 0., 0., 2., 0., 0.],\n",
              "         [0., 0., 0., 0., 0., 0., 2., 1.],\n",
              "         [0., 0., 0., 0., 0., 0., 1., 2.]]], dtype=torch.float64)"
            ]
          },
          "execution_count": 16,
          "metadata": {},
          "output_type": "execute_result"
        }
      ],
      "source": [
        "raw_weights = torch.bmm(embeddings, embeddings.transpose(1, 2))\n",
        "raw_weights"
      ]
    },
    {
      "cell_type": "code",
      "execution_count": 17,
      "metadata": {
        "colab": {
          "base_uri": "https://localhost:8080/"
        },
        "id": "4-UgQLMnUt0W",
        "outputId": "87f080dc-b1e9-4c6f-f0c2-2ebb7e6676dd"
      },
      "outputs": [
        {
          "data": {
            "text/plain": [
              "tensor([[[2., 0., 1., 0., 0., 0., 0., 0.],\n",
              "         [0., 2., 0., 0., 0., 1., 0., 0.],\n",
              "         [1., 0., 2., 0., 0., 0., 0., 0.],\n",
              "         [0., 0., 0., 2., 0., 0., 0., 0.],\n",
              "         [0., 0., 0., 0., 2., 0., 0., 0.],\n",
              "         [0., 1., 0., 0., 0., 2., 0., 0.],\n",
              "         [0., 0., 0., 0., 0., 0., 2., 1.],\n",
              "         [0., 0., 0., 0., 0., 0., 1., 2.]]], dtype=torch.float64)"
            ]
          },
          "execution_count": 17,
          "metadata": {},
          "output_type": "execute_result"
        }
      ],
      "source": [
        "weights = raw_weights #F.softmax(raw_weights, dim=2)\n",
        "weights"
      ]
    },
    {
      "cell_type": "code",
      "execution_count": 18,
      "metadata": {
        "colab": {
          "base_uri": "https://localhost:8080/"
        },
        "id": "u3JCSBuIVjh2",
        "outputId": "a891f489-5990-4521-e45c-1c903043b670"
      },
      "outputs": [
        {
          "data": {
            "text/plain": [
              "tensor([[0., 0., 3., 0., 0., 0., 0., 0., 0., 0., 0., 0., 0., 0., 0., 0., 0., 0.,\n",
              "         0., 0., 0., 0., 0., 0., 0., 0., 0., 0., 2., 0., 1., 0., 0., 0., 0., 0.],\n",
              "        [0., 0., 0., 3., 0., 0., 0., 0., 0., 0., 0., 0., 0., 0., 0., 0., 0., 0.,\n",
              "         0., 0., 0., 0., 0., 0., 0., 0., 0., 0., 0., 2., 0., 0., 0., 1., 0., 0.],\n",
              "        [0., 0., 3., 0., 0., 0., 0., 0., 0., 0., 0., 0., 0., 0., 0., 0., 0., 0.,\n",
              "         0., 0., 0., 0., 0., 0., 0., 0., 0., 0., 1., 0., 2., 0., 0., 0., 0., 0.],\n",
              "        [0., 0., 0., 0., 2., 0., 0., 0., 0., 0., 0., 0., 0., 0., 0., 0., 0., 0.,\n",
              "         0., 0., 0., 0., 0., 0., 0., 0., 0., 0., 0., 0., 0., 2., 0., 0., 0., 0.],\n",
              "        [0., 0., 0., 0., 0., 2., 0., 0., 0., 0., 0., 0., 0., 0., 0., 0., 0., 0.,\n",
              "         0., 0., 0., 0., 0., 0., 0., 0., 0., 0., 0., 0., 0., 0., 2., 0., 0., 0.],\n",
              "        [0., 0., 0., 3., 0., 0., 0., 0., 0., 0., 0., 0., 0., 0., 0., 0., 0., 0.,\n",
              "         0., 0., 0., 0., 0., 0., 0., 0., 0., 0., 0., 1., 0., 0., 0., 2., 0., 0.],\n",
              "        [0., 0., 0., 0., 0., 0., 3., 0., 0., 0., 0., 0., 0., 0., 0., 0., 0., 0.,\n",
              "         0., 0., 0., 0., 0., 0., 0., 0., 0., 0., 0., 0., 0., 0., 0., 0., 2., 1.],\n",
              "        [0., 0., 0., 0., 0., 0., 3., 0., 0., 0., 0., 0., 0., 0., 0., 0., 0., 0.,\n",
              "         0., 0., 0., 0., 0., 0., 0., 0., 0., 0., 0., 0., 0., 0., 0., 0., 1., 2.]])"
            ]
          },
          "execution_count": 18,
          "metadata": {},
          "output_type": "execute_result"
        }
      ],
      "source": [
        "y = BasicSelfAttention(False).forward(embeddings)\n",
        "y[0]"
      ]
    },
    {
      "cell_type": "code",
      "execution_count": 19,
      "metadata": {
        "colab": {
          "base_uri": "https://localhost:8080/"
        },
        "id": "dAFR9ZaHhlkI",
        "outputId": "1cf264eb-9c8e-44e8-dafa-5f47d40d1c62"
      },
      "outputs": [
        {
          "data": {
            "text/plain": [
              "(8, 26)"
            ]
          },
          "execution_count": 19,
          "metadata": {},
          "output_type": "execute_result"
        }
      ],
      "source": [
        "attn_out = y[0]\n",
        "sequence_length = attn_out.shape[0]\n",
        "sequence_length, alphabet_size"
      ]
    },
    {
      "cell_type": "code",
      "execution_count": 20,
      "metadata": {
        "id": "V2V3GoHKV0eu"
      },
      "outputs": [],
      "source": [
        "xx = torch.nn.Linear(embedding_length, embedding_length * 4, False)\n",
        "yy = torch.nn.Linear(embedding_length * 4, embedding_length, False)\n",
        "\n",
        "weight_tensor, weight_tensor_2 = make_weights(alphabet_size, sequence_length)\n"
      ]
    },
    {
      "cell_type": "code",
      "execution_count": 21,
      "metadata": {
        "colab": {
          "base_uri": "https://localhost:8080/",
          "height": 36
        },
        "id": "glrxOLs-67vu",
        "outputId": "72c4382d-35a1-445c-9f2f-25e843a7e0f5"
      },
      "outputs": [
        {
          "data": {
            "text/plain": [
              "'abacdbee'"
            ]
          },
          "execution_count": 21,
          "metadata": {},
          "output_type": "execute_result"
        }
      ],
      "source": [
        "input_string"
      ]
    },
    {
      "cell_type": "code",
      "execution_count": 23,
      "metadata": {
        "colab": {
          "base_uri": "https://localhost:8080/"
        },
        "id": "64ifWRvfwh8C",
        "outputId": "db25b1c1-388d-457b-81bb-911e265780c0"
      },
      "outputs": [
        {
          "ename": "TypeError",
          "evalue": "cannot assign 'torch.FloatTensor' as parameter 'weight' (torch.nn.Parameter or None expected)",
          "output_type": "error",
          "traceback": [
            "\u001b[0;31m---------------------------------------------------------------------------\u001b[0m",
            "\u001b[0;31mTypeError\u001b[0m                                 Traceback (most recent call last)",
            "\u001b[1;32m/Users/clash/github/synthetic-initialization/notebooks/set_surgery.ipynb Cell 20\u001b[0m in \u001b[0;36m<cell line: 1>\u001b[0;34m()\u001b[0m\n\u001b[0;32m----> <a href='vscode-notebook-cell:/Users/clash/github/synthetic-initialization/notebooks/set_surgery.ipynb#ch0000020?line=0'>1</a>\u001b[0m FeedForwardRelu(alphabet_size, sequence_length)(y)\n",
            "File \u001b[0;32m~/github/synthetic-initialization/notebooks/models/model.py:103\u001b[0m, in \u001b[0;36mFeedForwardRelu.__init__\u001b[0;34m(self, alphabet_size, sequence_length)\u001b[0m\n\u001b[1;32m    100\u001b[0m \u001b[39mself\u001b[39m\u001b[39m.\u001b[39mlayer1 \u001b[39m=\u001b[39m torch\u001b[39m.\u001b[39mnn\u001b[39m.\u001b[39mLinear(hidden_dim, out_dim)\n\u001b[1;32m    102\u001b[0m weight_tensor_0, weight_tensor_1 \u001b[39m=\u001b[39m make_weights(alphabet_size, sequence_length)\n\u001b[0;32m--> 103\u001b[0m \u001b[39mself\u001b[39;49m\u001b[39m.\u001b[39;49mlayer0\u001b[39m.\u001b[39;49mweight \u001b[39m=\u001b[39m weight_tensor_0\n\u001b[1;32m    104\u001b[0m \u001b[39mself\u001b[39m\u001b[39m.\u001b[39mlayer1\u001b[39m.\u001b[39mweight \u001b[39m=\u001b[39m weight_tensor_1\n",
            "File \u001b[0;32m~/github/synthetic-initialization/env/lib/python3.9/site-packages/torch/nn/modules/module.py:1228\u001b[0m, in \u001b[0;36mModule.__setattr__\u001b[0;34m(self, name, value)\u001b[0m\n\u001b[1;32m   1226\u001b[0m \u001b[39melif\u001b[39;00m params \u001b[39mis\u001b[39;00m \u001b[39mnot\u001b[39;00m \u001b[39mNone\u001b[39;00m \u001b[39mand\u001b[39;00m name \u001b[39min\u001b[39;00m params:\n\u001b[1;32m   1227\u001b[0m     \u001b[39mif\u001b[39;00m value \u001b[39mis\u001b[39;00m \u001b[39mnot\u001b[39;00m \u001b[39mNone\u001b[39;00m:\n\u001b[0;32m-> 1228\u001b[0m         \u001b[39mraise\u001b[39;00m \u001b[39mTypeError\u001b[39;00m(\u001b[39m\"\u001b[39m\u001b[39mcannot assign \u001b[39m\u001b[39m'\u001b[39m\u001b[39m{}\u001b[39;00m\u001b[39m'\u001b[39m\u001b[39m as parameter \u001b[39m\u001b[39m'\u001b[39m\u001b[39m{}\u001b[39;00m\u001b[39m'\u001b[39m\u001b[39m \u001b[39m\u001b[39m\"\u001b[39m\n\u001b[1;32m   1229\u001b[0m                         \u001b[39m\"\u001b[39m\u001b[39m(torch.nn.Parameter or None expected)\u001b[39m\u001b[39m\"\u001b[39m\n\u001b[1;32m   1230\u001b[0m                         \u001b[39m.\u001b[39mformat(torch\u001b[39m.\u001b[39mtypename(value), name))\n\u001b[1;32m   1231\u001b[0m     \u001b[39mself\u001b[39m\u001b[39m.\u001b[39mregister_parameter(name, value)\n\u001b[1;32m   1232\u001b[0m \u001b[39melse\u001b[39;00m:\n",
            "\u001b[0;31mTypeError\u001b[0m: cannot assign 'torch.FloatTensor' as parameter 'weight' (torch.nn.Parameter or None expected)"
          ]
        }
      ],
      "source": [
        "FeedForwardRelu(alphabet_size, sequence_length)(y)"
      ]
    },
    {
      "cell_type": "code",
      "execution_count": 21,
      "metadata": {
        "colab": {
          "base_uri": "https://localhost:8080/"
        },
        "id": "NWRM7lwK52bN",
        "outputId": "2ae7828d-7648-4e70-abe2-980a18b23df7"
      },
      "outputs": [
        {
          "data": {
            "text/plain": [
              "tensor([[[0., 0., 3., 0., 0., 0., 0., 0., 0., 0., 0., 0., 0., 0., 0., 0., 0.,\n",
              "          0., 0., 0., 0., 0., 0., 0., 0., 0., 0., 0., 2., 0., 1., 0., 0., 0.,\n",
              "          0., 0.],\n",
              "         [0., 0., 0., 3., 0., 0., 0., 0., 0., 0., 0., 0., 0., 0., 0., 0., 0.,\n",
              "          0., 0., 0., 0., 0., 0., 0., 0., 0., 0., 0., 0., 2., 0., 0., 0., 1.,\n",
              "          0., 0.],\n",
              "         [0., 0., 3., 0., 0., 0., 0., 0., 0., 0., 0., 0., 0., 0., 0., 0., 0.,\n",
              "          0., 0., 0., 0., 0., 0., 0., 0., 0., 0., 0., 1., 0., 2., 0., 0., 0.,\n",
              "          0., 0.],\n",
              "         [0., 0., 0., 0., 2., 0., 0., 0., 0., 0., 0., 0., 0., 0., 0., 0., 0.,\n",
              "          0., 0., 0., 0., 0., 0., 0., 0., 0., 0., 0., 0., 0., 0., 2., 0., 0.,\n",
              "          0., 0.],\n",
              "         [0., 0., 0., 0., 0., 2., 0., 0., 0., 0., 0., 0., 0., 0., 0., 0., 0.,\n",
              "          0., 0., 0., 0., 0., 0., 0., 0., 0., 0., 0., 0., 0., 0., 0., 2., 0.,\n",
              "          0., 0.],\n",
              "         [0., 0., 0., 3., 0., 0., 0., 0., 0., 0., 0., 0., 0., 0., 0., 0., 0.,\n",
              "          0., 0., 0., 0., 0., 0., 0., 0., 0., 0., 0., 0., 1., 0., 0., 0., 2.,\n",
              "          0., 0.],\n",
              "         [0., 0., 0., 0., 0., 0., 3., 0., 0., 0., 0., 0., 0., 0., 0., 0., 0.,\n",
              "          0., 0., 0., 0., 0., 0., 0., 0., 0., 0., 0., 0., 0., 0., 0., 0., 0.,\n",
              "          2., 1.],\n",
              "         [0., 0., 0., 0., 0., 0., 3., 0., 0., 0., 0., 0., 0., 0., 0., 0., 0.,\n",
              "          0., 0., 0., 0., 0., 0., 0., 0., 0., 0., 0., 0., 0., 0., 0., 0., 0.,\n",
              "          1., 2.]]])"
            ]
          },
          "execution_count": 21,
          "metadata": {},
          "output_type": "execute_result"
        }
      ],
      "source": [
        "y"
      ]
    },
    {
      "cell_type": "code",
      "execution_count": null,
      "metadata": {
        "id": "5s_xd1ir56UC"
      },
      "outputs": [],
      "source": []
    }
  ],
  "metadata": {
    "colab": {
      "collapsed_sections": [],
      "name": "set_surgery_first_dupe.ipynb",
      "provenance": []
    },
    "kernelspec": {
      "display_name": "Python 3.9.10 ('env': venv)",
      "language": "python",
      "name": "python3"
    },
    "language_info": {
      "codemirror_mode": {
        "name": "ipython",
        "version": 3
      },
      "file_extension": ".py",
      "mimetype": "text/x-python",
      "name": "python",
      "nbconvert_exporter": "python",
      "pygments_lexer": "ipython3",
      "version": "3.9.10"
    },
    "vscode": {
      "interpreter": {
        "hash": "852bf58ddab3be3ef8f2006f2742eda6085e6ff77144d3659221b6a737e2af44"
      }
    }
  },
  "nbformat": 4,
  "nbformat_minor": 0
}
