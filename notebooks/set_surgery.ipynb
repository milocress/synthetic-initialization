{
  "nbformat": 4,
  "nbformat_minor": 0,
  "metadata": {
    "colab": {
      "name": "set_surgery.ipynb",
      "provenance": [],
      "collapsed_sections": []
    },
    "kernelspec": {
      "name": "python3",
      "display_name": "Python 3"
    },
    "language_info": {
      "name": "python"
    }
  },
  "cells": [
    {
      "cell_type": "code",
      "execution_count": null,
      "metadata": {
        "id": "8Cqqjh4UL3h5"
      },
      "outputs": [],
      "source": [
        "input_string = \"abac\"\n",
        "output_string = \"abc\""
      ]
    },
    {
      "cell_type": "code",
      "source": [
        "# set implementation in python\n",
        "def simple_set_dedupe(input_string):\n",
        "  s = set()\n",
        "  r = []\n",
        "  for c in input_string:\n",
        "    if c not in s:\n",
        "      s.add(c)\n",
        "      r.append(c)\n",
        "\n",
        "  return r"
      ],
      "metadata": {
        "id": "3COCJHogNDEn"
      },
      "execution_count": null,
      "outputs": []
    },
    {
      "cell_type": "code",
      "source": [
        "simple_set_dedupe(input_string)"
      ],
      "metadata": {
        "colab": {
          "base_uri": "https://localhost:8080/"
        },
        "id": "6agUtrPnNVVu",
        "outputId": "adaaeb16-b596-4fbb-a1a3-830073fc7f1f"
      },
      "execution_count": null,
      "outputs": [
        {
          "output_type": "execute_result",
          "data": {
            "text/plain": [
              "['a', 'b', 'c']"
            ]
          },
          "metadata": {},
          "execution_count": 39
        }
      ]
    },
    {
      "cell_type": "code",
      "source": [
        "import numpy as np\n",
        "import torch\n",
        "from numpy.typing import NDArray"
      ],
      "metadata": {
        "id": "d9Fz1VYlNXHX"
      },
      "execution_count": null,
      "outputs": []
    },
    {
      "cell_type": "code",
      "source": [
        "default_tokens = {\n",
        "    'a': 0,\n",
        "    'b': 1,\n",
        "    'c': 2\n",
        "}\n",
        "\n",
        "def tokenize(input_string, tokens=None):\n",
        "  if tokens is None:\n",
        "    tokens = default_tokens\n",
        "  return np.array([tokens[c] for c in input_string])"
      ],
      "metadata": {
        "id": "zerAdpZzN8fO"
      },
      "execution_count": null,
      "outputs": []
    },
    {
      "cell_type": "code",
      "source": [
        "tokens = tokenize(input_string)\n",
        "tokens"
      ],
      "metadata": {
        "colab": {
          "base_uri": "https://localhost:8080/"
        },
        "id": "3cls8cPfPNpu",
        "outputId": "86cd37ab-cb53-4a3e-faf7-7a6f6e58cf72"
      },
      "execution_count": null,
      "outputs": [
        {
          "output_type": "execute_result",
          "data": {
            "text/plain": [
              "array([0, 1, 0, 2])"
            ]
          },
          "metadata": {},
          "execution_count": 42
        }
      ]
    },
    {
      "cell_type": "code",
      "source": [
        "def batch_tokens(tokens: NDArray):\n",
        "  \"\"\"batch tokens if not already batched\"\"\"\n",
        "  if len(tokens.shape) == 1:\n",
        "    return np.array([tokens])\n",
        "  elif len(tokens.shape) == 2:\n",
        "    return tokens\n",
        "\n",
        "  raise ValueError(\"too many dimensions\")"
      ],
      "metadata": {
        "id": "yVyYujP3Sd4A"
      },
      "execution_count": null,
      "outputs": []
    },
    {
      "cell_type": "code",
      "source": [
        "batch = batch_tokens(tokens)\n",
        "batch"
      ],
      "metadata": {
        "colab": {
          "base_uri": "https://localhost:8080/"
        },
        "id": "S40ncnE_TXV5",
        "outputId": "c0b5fce6-e08a-4497-e080-136f3fa602fc"
      },
      "execution_count": null,
      "outputs": [
        {
          "output_type": "execute_result",
          "data": {
            "text/plain": [
              "array([[0, 1, 0, 2]])"
            ]
          },
          "metadata": {},
          "execution_count": 44
        }
      ]
    },
    {
      "cell_type": "code",
      "source": [
        "import torch\n",
        "import torch.nn.functional as F"
      ],
      "metadata": {
        "id": "8zRSgLoDUqVA"
      },
      "execution_count": null,
      "outputs": []
    },
    {
      "cell_type": "code",
      "source": [
        "def embed(tokens, num_values = None):\n",
        "  num_values = num_values + 1 if num_values is not None else np.max(tokens) + 1 + 1\n",
        "\n",
        "  return torch.tensor(np.eye(num_values)[tokens+1])"
      ],
      "metadata": {
        "id": "NBKkFoPkPPBe"
      },
      "execution_count": null,
      "outputs": []
    },
    {
      "cell_type": "code",
      "source": [
        "embeddings = embed(batch)\n",
        "embeddings"
      ],
      "metadata": {
        "colab": {
          "base_uri": "https://localhost:8080/"
        },
        "id": "-d2ED65XRgL4",
        "outputId": "06898314-a85f-43ec-afa8-5eb9c3df2060"
      },
      "execution_count": null,
      "outputs": [
        {
          "output_type": "execute_result",
          "data": {
            "text/plain": [
              "tensor([[[0., 1., 0., 0.],\n",
              "         [0., 0., 1., 0.],\n",
              "         [0., 1., 0., 0.],\n",
              "         [0., 0., 0., 1.]]], dtype=torch.float64)"
            ]
          },
          "metadata": {},
          "execution_count": 47
        }
      ]
    },
    {
      "cell_type": "code",
      "source": [
        "embeddings.shape # should be (batches, sequence length, embedding dimension)"
      ],
      "metadata": {
        "colab": {
          "base_uri": "https://localhost:8080/"
        },
        "id": "Fd1tWjeQRoVu",
        "outputId": "c32d2cb2-9807-4e3b-f6a3-d25bf670b9e2"
      },
      "execution_count": null,
      "outputs": [
        {
          "output_type": "execute_result",
          "data": {
            "text/plain": [
              "torch.Size([1, 4, 4])"
            ]
          },
          "metadata": {},
          "execution_count": 48
        }
      ]
    },
    {
      "cell_type": "code",
      "source": [
        "raw_weights = torch.bmm(embeddings, embeddings.transpose(1, 2))\n",
        "raw_weights"
      ],
      "metadata": {
        "colab": {
          "base_uri": "https://localhost:8080/"
        },
        "id": "eUYFHXi1Tlo-",
        "outputId": "c12c8eb0-daba-4c45-cb8a-65ba7c1d74c0"
      },
      "execution_count": null,
      "outputs": [
        {
          "output_type": "execute_result",
          "data": {
            "text/plain": [
              "tensor([[[1., 0., 1., 0.],\n",
              "         [0., 1., 0., 0.],\n",
              "         [1., 0., 1., 0.],\n",
              "         [0., 0., 0., 1.]]], dtype=torch.float64)"
            ]
          },
          "metadata": {},
          "execution_count": 49
        }
      ]
    },
    {
      "cell_type": "code",
      "source": [
        "weights = F.softmax(raw_weights, dim=2)\n",
        "weights"
      ],
      "metadata": {
        "colab": {
          "base_uri": "https://localhost:8080/"
        },
        "id": "4-UgQLMnUt0W",
        "outputId": "b21efef7-db4b-4f9a-f41d-b49203b5bdf4"
      },
      "execution_count": null,
      "outputs": [
        {
          "output_type": "execute_result",
          "data": {
            "text/plain": [
              "tensor([[[0.3655, 0.1345, 0.3655, 0.1345],\n",
              "         [0.1749, 0.4754, 0.1749, 0.1749],\n",
              "         [0.3655, 0.1345, 0.3655, 0.1345],\n",
              "         [0.1749, 0.1749, 0.1749, 0.4754]]], dtype=torch.float64)"
            ]
          },
          "metadata": {},
          "execution_count": 50
        }
      ]
    },
    {
      "cell_type": "code",
      "source": [
        "y = torch.bmm(weights, embeddings).float()\n",
        "y"
      ],
      "metadata": {
        "colab": {
          "base_uri": "https://localhost:8080/"
        },
        "id": "u3JCSBuIVjh2",
        "outputId": "068d193b-9b7f-4fca-b04d-6941b640f63b"
      },
      "execution_count": null,
      "outputs": [
        {
          "output_type": "execute_result",
          "data": {
            "text/plain": [
              "tensor([[[0.0000, 0.7311, 0.1345, 0.1345],\n",
              "         [0.0000, 0.3498, 0.4754, 0.1749],\n",
              "         [0.0000, 0.7311, 0.1345, 0.1345],\n",
              "         [0.0000, 0.3498, 0.1749, 0.4754]]])"
            ]
          },
          "metadata": {},
          "execution_count": 51
        }
      ]
    },
    {
      "cell_type": "code",
      "source": [
        "attn_out = y[0]\n",
        "values = attn_out @ torch.tensor([[0., 1, -1, -1],\n",
        "                                  [0,  -1, 1, -1],\n",
        "                                  [0, -1, -1, 1]]).T\n",
        "\n",
        "activated = F.relu(values)\n",
        "print(activated)\n",
        "activated.sum(dim=1)"
      ],
      "metadata": {
        "colab": {
          "base_uri": "https://localhost:8080/"
        },
        "id": "L4Vg5tAEpwhe",
        "outputId": "8bb0aca5-dc9b-4297-9cc2-4db5546246ef"
      },
      "execution_count": null,
      "outputs": [
        {
          "output_type": "stream",
          "name": "stdout",
          "text": [
            "tensor([[0.4621, 0.0000, 0.0000],\n",
            "        [0.0000, 0.0000, 0.0000],\n",
            "        [0.4621, 0.0000, 0.0000],\n",
            "        [0.0000, 0.0000, 0.0000]])\n"
          ]
        },
        {
          "output_type": "execute_result",
          "data": {
            "text/plain": [
              "tensor([0.4621, 0.0000, 0.4621, 0.0000])"
            ]
          },
          "metadata": {},
          "execution_count": 52
        }
      ]
    },
    {
      "cell_type": "code",
      "source": [
        "xx = torch.nn.Linear(4, 16, False)\n",
        "yy = torch.nn.Linear(16, 4, False)\n",
        "print(xx.weight)\n",
        "# xx\n",
        "# xx(y)\n",
        "yy(torch.nn.ReLU()(xx(y)))"
      ],
      "metadata": {
        "id": "V2V3GoHKV0eu",
        "colab": {
          "base_uri": "https://localhost:8080/"
        },
        "outputId": "0b67ad7b-3006-4340-8f27-22b424866c62"
      },
      "execution_count": null,
      "outputs": [
        {
          "output_type": "stream",
          "name": "stdout",
          "text": [
            "Parameter containing:\n",
            "tensor([[-0.0140, -0.3385, -0.0760,  0.1401],\n",
            "        [ 0.1546, -0.2273, -0.3025, -0.4889],\n",
            "        [ 0.1247, -0.0681,  0.1002, -0.2214],\n",
            "        [-0.3587,  0.3584, -0.2188,  0.1665],\n",
            "        [ 0.0744,  0.1523,  0.1222, -0.1710],\n",
            "        [-0.3458,  0.3298,  0.0733,  0.0858],\n",
            "        [-0.3854,  0.3539,  0.4793, -0.3032],\n",
            "        [ 0.0653, -0.1647, -0.1123,  0.1412],\n",
            "        [ 0.0285,  0.4717,  0.0397,  0.2665],\n",
            "        [ 0.4113, -0.1991, -0.4667, -0.3754],\n",
            "        [ 0.1451,  0.1299,  0.0537,  0.1685],\n",
            "        [ 0.2533,  0.0143,  0.2536, -0.2306],\n",
            "        [-0.1576,  0.0591,  0.4963,  0.2731],\n",
            "        [-0.0289,  0.2811,  0.1586,  0.0260],\n",
            "        [ 0.0091, -0.4052, -0.4492, -0.2299],\n",
            "        [ 0.1024,  0.4178, -0.3387, -0.4133]], requires_grad=True)\n"
          ]
        },
        {
          "output_type": "execute_result",
          "data": {
            "text/plain": [
              "tensor([[[-0.0818, -0.1100, -0.1076, -0.0759],\n",
              "         [-0.0710, -0.2154, -0.1233, -0.0535],\n",
              "         [-0.0818, -0.1100, -0.1076, -0.0759],\n",
              "         [-0.0171, -0.1282, -0.0232, -0.0047]]], grad_fn=<UnsafeViewBackward0>)"
            ]
          },
          "metadata": {},
          "execution_count": 53
        }
      ]
    },
    {
      "cell_type": "code",
      "source": [],
      "metadata": {
        "id": "4QDBTLrCcPlh"
      },
      "execution_count": null,
      "outputs": []
    }
  ]
}