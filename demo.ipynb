{
 "cells": [
  {
   "cell_type": "code",
   "execution_count": 1,
   "metadata": {},
   "outputs": [
    {
     "name": "stdout",
     "output_type": "stream",
     "text": [
      "Requirement already satisfied: torch in e:\\anaconda\\envs\\synthetic\\lib\\site-packages (from -r requirements.txt (line 1)) (1.12.1)\n",
      "Requirement already satisfied: numpy in e:\\anaconda\\envs\\synthetic\\lib\\site-packages (from -r requirements.txt (line 2)) (1.23.2)\n",
      "Requirement already satisfied: typing-extensions in e:\\anaconda\\envs\\synthetic\\lib\\site-packages (from torch->-r requirements.txt (line 1)) (4.3.0)\n",
      "Note: you may need to restart the kernel to use updated packages.\n"
     ]
    }
   ],
   "source": [
    "%pip install -r requirements.txt"
   ]
  },
  {
   "cell_type": "code",
   "execution_count": 2,
   "metadata": {},
   "outputs": [
    {
     "name": "stderr",
     "output_type": "stream",
     "text": [
      "e:\\Anaconda\\envs\\synthetic\\lib\\site-packages\\tqdm\\auto.py:22: TqdmWarning: IProgress not found. Please update jupyter and ipywidgets. See https://ipywidgets.readthedocs.io/en/stable/user_install.html\n",
      "  from .autonotebook import tqdm as notebook_tqdm\n"
     ]
    }
   ],
   "source": [
    "from model import tokenize, BasicTransformerBlock, unembed, decode, BasicSelfAttention, SingleHeadAttention, ExtendedEmbeddings"
   ]
  },
  {
   "cell_type": "code",
   "execution_count": 3,
   "metadata": {},
   "outputs": [],
   "source": [
    "input_string = \"test\""
   ]
  },
  {
   "cell_type": "code",
   "execution_count": 4,
   "metadata": {},
   "outputs": [
    {
     "data": {
      "text/plain": [
       "4"
      ]
     },
     "execution_count": 4,
     "metadata": {},
     "output_type": "execute_result"
    }
   ],
   "source": [
    "sequence_length = len(input_string)\n",
    "sequence_length"
   ]
  },
  {
   "cell_type": "code",
   "execution_count": 5,
   "metadata": {},
   "outputs": [
    {
     "data": {
      "text/plain": [
       "(tensor([[20, 19,  5, 20]]), 27)"
      ]
     },
     "execution_count": 5,
     "metadata": {},
     "output_type": "execute_result"
    }
   ],
   "source": [
    "tokens, alphabet_length = tokenize([input_string])\n",
    "tokens, alphabet_length"
   ]
  },
  {
   "cell_type": "code",
   "execution_count": 6,
   "metadata": {},
   "outputs": [
    {
     "data": {
      "text/plain": [
       "tensor([[[0., 0., 0., 0., 0., 0., 0., 0., 0., 0., 0., 0., 0., 0., 0., 0., 0.,\n",
       "          0., 0., 0., 0., 0., 1., 0., 0., 0., 0., 0., 0., 1., 0., 0., 0.],\n",
       "         [0., 0., 0., 0., 0., 0., 0., 0., 0., 0., 0., 0., 0., 0., 0., 0., 0.,\n",
       "          0., 0., 0., 0., 1., 0., 0., 0., 0., 0., 0., 0., 0., 1., 0., 0.],\n",
       "         [0., 0., 0., 0., 0., 0., 0., 1., 0., 0., 0., 0., 0., 0., 0., 0., 0.,\n",
       "          0., 0., 0., 0., 0., 0., 0., 0., 0., 0., 0., 0., 0., 0., 1., 0.],\n",
       "         [0., 0., 0., 0., 0., 0., 0., 0., 0., 0., 0., 0., 0., 0., 0., 0., 0.,\n",
       "          0., 0., 0., 0., 0., 1., 0., 0., 0., 0., 0., 0., 0., 0., 0., 1.]]],\n",
       "       grad_fn=<AddBackward0>)"
      ]
     },
     "execution_count": 6,
     "metadata": {},
     "output_type": "execute_result"
    }
   ],
   "source": [
    "embeddings_tensor = ExtendedEmbeddings(alphabet_length, sequence_length)\n",
    "embeddings_tensor.set_weights('set')\n",
    "embeddings = embeddings_tensor(tokens)\n",
    "embeddings"
   ]
  },
  {
   "cell_type": "code",
   "execution_count": 7,
   "metadata": {},
   "outputs": [],
   "source": [
    "head = SingleHeadAttention(embeddings.shape[-1])\n",
    "head.set_weights('set')"
   ]
  },
  {
   "cell_type": "code",
   "execution_count": 8,
   "metadata": {},
   "outputs": [
    {
     "data": {
      "text/plain": [
       "tensor([[[0., 0., 0., 0., 0., 0., 0., 0., 0., 0., 0., 0., 0., 0., 0., 0., 0.,\n",
       "          0., 0., 0., 0., 0., 3., 0., 0., 0., 0., 0., 0., 2., 0., 0., 1.],\n",
       "         [0., 0., 0., 0., 0., 0., 0., 0., 0., 0., 0., 0., 0., 0., 0., 0., 0.,\n",
       "          0., 0., 0., 0., 2., 0., 0., 0., 0., 0., 0., 0., 0., 2., 0., 0.],\n",
       "         [0., 0., 0., 0., 0., 0., 0., 2., 0., 0., 0., 0., 0., 0., 0., 0., 0.,\n",
       "          0., 0., 0., 0., 0., 0., 0., 0., 0., 0., 0., 0., 0., 0., 2., 0.],\n",
       "         [0., 0., 0., 0., 0., 0., 0., 0., 0., 0., 0., 0., 0., 0., 0., 0., 0.,\n",
       "          0., 0., 0., 0., 0., 3., 0., 0., 0., 0., 0., 0., 1., 0., 0., 2.]]],\n",
       "       grad_fn=<BmmBackward0>)"
      ]
     },
     "execution_count": 8,
     "metadata": {},
     "output_type": "execute_result"
    }
   ],
   "source": [
    "head(embeddings)"
   ]
  },
  {
   "cell_type": "code",
   "execution_count": 9,
   "metadata": {},
   "outputs": [],
   "source": [
    "model = BasicTransformerBlock(alphabet_length, sequence_length)\n",
    "model.set_weights('set')"
   ]
  },
  {
   "cell_type": "code",
   "execution_count": 13,
   "metadata": {},
   "outputs": [
    {
     "data": {
      "text/plain": [
       "tensor([[ 0, 19,  5, 20]])"
      ]
     },
     "execution_count": 13,
     "metadata": {},
     "output_type": "execute_result"
    }
   ],
   "source": [
    "out_embeds = model(tokens)\n",
    "out_embeds.transpose(1, 2).argmax(dim=2)"
   ]
  },
  {
   "cell_type": "code",
   "execution_count": 11,
   "metadata": {},
   "outputs": [
    {
     "ename": "IndexError",
     "evalue": "argmax(): Expected reduction dim 2 to have non-zero size.",
     "output_type": "error",
     "traceback": [
      "\u001b[1;31m---------------------------------------------------------------------------\u001b[0m",
      "\u001b[1;31mIndexError\u001b[0m                                Traceback (most recent call last)",
      "\u001b[1;32mUbuntu-22.04\\root\\synthetic-initialization\\demo.ipynb Cell 11\u001b[0m in \u001b[0;36m<cell line: 1>\u001b[1;34m()\u001b[0m\n\u001b[1;32m----> <a href='vscode-notebook-cell://wsl%24/Ubuntu-22.04/root/synthetic-initialization/demo.ipynb#X13sZmlsZQ%3D%3D?line=0'>1</a>\u001b[0m tokens \u001b[39m=\u001b[39m unembed(out_embeds)[\u001b[39m0\u001b[39m]\n",
      "File \u001b[1;32m\\\\wsl$\\Ubuntu-22.04\\root\\synthetic-initialization\\model.py:42\u001b[0m, in \u001b[0;36munembed\u001b[1;34m(embeds)\u001b[0m\n\u001b[0;32m     38\u001b[0m batch_size, sequence_len, embed_dim \u001b[39m=\u001b[39m embeds\u001b[39m.\u001b[39mshape\n\u001b[0;32m     40\u001b[0m alphabet_size \u001b[39m=\u001b[39m embed_dim \u001b[39m-\u001b[39m sequence_len \u001b[39m-\u001b[39m \u001b[39m2\u001b[39m\n\u001b[1;32m---> 42\u001b[0m nominal_tokens \u001b[39m=\u001b[39m embeds[:,:,\u001b[39m2\u001b[39;49m:alphabet_size\u001b[39m+\u001b[39;49m\u001b[39m2\u001b[39;49m]\u001b[39m.\u001b[39;49margmax(dim\u001b[39m=\u001b[39;49m\u001b[39m2\u001b[39;49m)\n\u001b[0;32m     43\u001b[0m mask \u001b[39m=\u001b[39m torch\u001b[39m.\u001b[39mlogical_and((embeds[:,:,\u001b[39m0\u001b[39m] \u001b[39m>\u001b[39m \u001b[39m2.5\u001b[39m), (embeds[:,:,\u001b[39m1\u001b[39m] \u001b[39m<\u001b[39m \u001b[39m1.5\u001b[39m))\n\u001b[0;32m     44\u001b[0m nominal_tokens[mask] \u001b[39m=\u001b[39m \u001b[39m-\u001b[39m\u001b[39m1\u001b[39m\n",
      "\u001b[1;31mIndexError\u001b[0m: argmax(): Expected reduction dim 2 to have non-zero size."
     ]
    }
   ],
   "source": [
    "tokens = unembed(out_embeds)[0]"
   ]
  },
  {
   "cell_type": "code",
   "execution_count": null,
   "metadata": {},
   "outputs": [],
   "source": [
    "tokens"
   ]
  },
  {
   "cell_type": "code",
   "execution_count": null,
   "metadata": {},
   "outputs": [],
   "source": [
    "def perform_set(input_string):\n",
    "    sequence_length = len(input_string)\n",
    "    tokens, alphabet_length = tokenize(input_string)\n",
    "\n",
    "    embeddings = embed(batch_tokens(tokens), alphabet_length)\n",
    "\n",
    "    model = BasicTransformerBlock(alphabet_length, sequence_length)\n",
    "    model.set_weights(task='id')\n",
    "\n",
    "    out_embeds = model(embeddings)\n",
    "    tokens = unembed(out_embeds)[0]\n",
    "    \n",
    "    return decode(tokens)"
   ]
  },
  {
   "cell_type": "code",
   "execution_count": null,
   "metadata": {},
   "outputs": [],
   "source": [
    "perform_set(\"aabbccddaa\")"
   ]
  },
  {
   "cell_type": "code",
   "execution_count": null,
   "metadata": {},
   "outputs": [],
   "source": []
  }
 ],
 "metadata": {
  "kernelspec": {
   "display_name": "Python 3 (ipykernel)",
   "language": "python",
   "name": "python3"
  },
  "language_info": {
   "codemirror_mode": {
    "name": "ipython",
    "version": 3
   },
   "file_extension": ".py",
   "mimetype": "text/x-python",
   "name": "python",
   "nbconvert_exporter": "python",
   "pygments_lexer": "ipython3",
   "version": "3.8.13"
  },
  "vscode": {
   "interpreter": {
    "hash": "95d60fad4d0fe75f0710e63cef03549163614f1790eb97f685160f9032abb56d"
   }
  }
 },
 "nbformat": 4,
 "nbformat_minor": 4
}
