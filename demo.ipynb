{
 "cells": [
  {
   "cell_type": "code",
   "execution_count": 1,
   "metadata": {},
   "outputs": [
    {
     "name": "stdout",
     "output_type": "stream",
     "text": [
      "Requirement already satisfied: torch in ./env/lib/python3.9/site-packages (1.12.1)\n",
      "Requirement already satisfied: numpy in ./env/lib/python3.9/site-packages (1.23.2)\n",
      "Requirement already satisfied: typing-extensions in ./env/lib/python3.9/site-packages (from torch) (4.3.0)\n",
      "\u001b[33mWARNING: You are using pip version 21.3.1; however, version 22.2.2 is available.\n",
      "You should consider upgrading via the '/Users/clash/github/synthetic-initialization/env/bin/python -m pip install --upgrade pip' command.\u001b[0m\n",
      "Note: you may need to restart the kernel to use updated packages.\n"
     ]
    }
   ],
   "source": [
    "%pip install -r requirements.txt"
   ]
  },
  {
   "cell_type": "code",
   "execution_count": 2,
   "metadata": {},
   "outputs": [],
   "source": [
    "from model import tokenize, embed, batch_tokens, BasicTransformerBlock, unembed, decode"
   ]
  },
  {
   "cell_type": "code",
   "execution_count": 4,
   "metadata": {},
   "outputs": [],
   "source": [
    "def perform_set(input_string):\n",
    "    sequence_length = len(input_string)\n",
    "    tokens, alphabet_length = tokenize(input_string)\n",
    "\n",
    "    embeddings = embed(batch_tokens(tokens), alphabet_length)\n",
    "\n",
    "    model = BasicTransformerBlock(alphabet_length, sequence_length)\n",
    "\n",
    "    out_embeds = model(embeddings)\n",
    "    tokens = unembed(out_embeds)[0]\n",
    "    \n",
    "    return decode(tokens)\n",
    "    \n"
   ]
  },
  {
   "cell_type": "code",
   "execution_count": 6,
   "metadata": {},
   "outputs": [
    {
     "data": {
      "text/plain": [
       "'abcd'"
      ]
     },
     "execution_count": 6,
     "metadata": {},
     "output_type": "execute_result"
    }
   ],
   "source": [
    "perform_set(\"aabbccddaa\")"
   ]
  },
  {
   "cell_type": "code",
   "execution_count": null,
   "metadata": {},
   "outputs": [],
   "source": []
  }
 ],
 "metadata": {
  "kernelspec": {
   "display_name": "Python 3.8.13 ('synthetic')",
   "language": "python",
   "name": "python3"
  },
  "language_info": {
   "codemirror_mode": {
    "name": "ipython",
    "version": 3
   },
   "file_extension": ".py",
   "mimetype": "text/x-python",
   "name": "python",
   "nbconvert_exporter": "python",
   "pygments_lexer": "ipython3",
   "version": "3.8.13"
  },
  "orig_nbformat": 4,
  "vscode": {
   "interpreter": {
    "hash": "95d60fad4d0fe75f0710e63cef03549163614f1790eb97f685160f9032abb56d"
   }
  }
 },
 "nbformat": 4,
 "nbformat_minor": 2
}
